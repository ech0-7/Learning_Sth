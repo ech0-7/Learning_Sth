{
 "cells": [
  {
   "cell_type": "code",
   "execution_count": 12,
   "metadata": {},
   "outputs": [
    {
     "name": "stdout",
     "output_type": "stream",
     "text": [
      "yield 0 [0, 1, 2]\n",
      "0 tensor([0, 1, 2])\n",
      "yield 1 [3, 4, 5]\n",
      "1 tensor([3, 4, 5])\n",
      "yield 2 [6, 7, 8]\n",
      "2 tensor([6, 7, 8])\n",
      "yield 3 [9]\n",
      "3 tensor([9])\n",
      "yield 4 [0, 1, 2]\n",
      "4 tensor([0, 1, 2])\n",
      "yield 5 [3, 4, 5]\n",
      "5 tensor([3, 4, 5])\n",
      "yield 6 [6, 7, 8]\n",
      "6 tensor([6, 7, 8])\n",
      "yield 7 [9]\n",
      "7 tensor([9])\n",
      "yield 8 [0, 1, 2]\n",
      "8 tensor([0, 1, 2])\n",
      "yield 9 [3, 4, 5]\n",
      "9 tensor([3, 4, 5])\n",
      "yield 10 [6, 7, 8]\n",
      "10 tensor([6, 7, 8])\n"
     ]
    },
    {
     "data": {
      "text/plain": [
       "' \\n在这个例子中，`MyDataset` 是一个简单的数据集，它只返回索引作为数据。\\n`SequentialSampler` 是一个采样器，它按顺序返回所有的索引。\\n`BatchSampler` 是一个批次采样器，\\n它从 `SequentialSampler` 中采样出大小为 10 的批次。\\n`IterationBasedBatchSampler` 是一个基于迭代的批次采样器，\\n它从 `BatchSampler` 中采样出 50 个批次。  此时len为100 最后的数据点是到100的\\n`DataLoader` 是一个数据加载器，\\n它从 `IterationBasedBatchSampler` 中加载数据。\\n当你运行这个例子，你会看到输出的批次索引和数据。每个批次的大小是 10,\\n总共有 50 个批次。 '"
      ]
     },
     "execution_count": 12,
     "metadata": {},
     "output_type": "execute_result"
    }
   ],
   "source": [
    "from torch.utils.data import Dataset, DataLoader, BatchSampler, SequentialSampler\n",
    "\n",
    "# 定义一个简单的数据集\n",
    "class MyDataset(Dataset):\n",
    "    def __getitem__(self, index):\n",
    "        return index\n",
    "\n",
    "    def __len__(self):\n",
    "        return 10#总迭代次数 100个批次的每次为10的数据\n",
    "\n",
    "class IterationBasedBatchSampler(BatchSampler):\n",
    "    def __init__(self, batch_sampler, num_iterations, start_iter=0):\n",
    "        self.batch_sampler = batch_sampler\n",
    "        self.num_iterations = num_iterations\n",
    "        self.start_iter = start_iter\n",
    "\n",
    "    def __iter__(self):\n",
    "        iteration = self.start_iter\n",
    "        while iteration <= self.num_iterations:\n",
    "            # 如果 batch_sampler 耗尽，就从头开始\n",
    "            for batch in self.batch_sampler:\n",
    "                if iteration > self.num_iterations:\n",
    "                    return\n",
    "                print('yield', iteration, batch)\n",
    "                iteration += 1\n",
    "                #输出这是yeild内部，用字符串的形式区分开与后面的i与bathc\n",
    "                yield batch\n",
    "\n",
    "    def __len__(self):\n",
    "        return self.num_iterations\n",
    "\n",
    "# 创建数据集实例\n",
    "dataset = MyDataset()\n",
    "\n",
    "# 创建 SequentialSampler 和 BatchSampler 实例\n",
    "sampler = SequentialSampler(dataset)\n",
    "batch_sampler = BatchSampler(sampler, batch_size=3, drop_last=False)\n",
    "\n",
    "# 创建 IterationBasedBatchSampler 实例\n",
    "iter_based_sampler = IterationBasedBatchSampler(batch_sampler, num_iterations=10)\n",
    "\n",
    "# 创建 DataLoader 实例\n",
    "data_loader = DataLoader(dataset, batch_sampler=iter_based_sampler)\n",
    "\n",
    "# 遍历 DataLoader\n",
    "for i, batch in enumerate(data_loader):\n",
    "    print(i, batch)\n",
    "\"\"\" \n",
    "在这个例子中，`MyDataset` 是一个简单的数据集，它只返回索引作为数据。\n",
    "`SequentialSampler` 是一个采样器，它按顺序返回所有的索引。\n",
    "`BatchSampler` 是一个批次采样器，\n",
    "它从 `SequentialSampler` 中采样出大小为 10 的批次。\n",
    "`IterationBasedBatchSampler` 是一个基于迭代的批次采样器，\n",
    "它从 `BatchSampler` 中采样出 50 个批次。  此时len为100 最后的数据点是到100的\n",
    "`DataLoader` 是一个数据加载器，\n",
    "它从 `IterationBasedBatchSampler` 中加载数据。\n",
    "当你运行这个例子，你会看到输出的批次索引和数据。每个批次的大小是 10,\n",
    "总共有 50 个批次。 \"\"\""
   ]
  },
  {
   "cell_type": "code",
   "execution_count": null,
   "metadata": {},
   "outputs": [],
   "source": [
    "\"\"\" 如果batch_size=3,drop_last=True,那么最后一个批次的数据点不足3个，len是数据点的个数,就会被丢弃 \"\"\""
   ]
  },
  {
   "cell_type": "code",
   "execution_count": 2,
   "metadata": {},
   "outputs": [],
   "source": [
    "a = [0, 1, 2, 3, 4, 5, 6, 7, 8, 9]\n",
    "b = a[0:-1:2]"
   ]
  },
  {
   "cell_type": "code",
   "execution_count": 3,
   "metadata": {},
   "outputs": [
    {
     "data": {
      "text/plain": [
       "[0, 2, 4, 6, 8]"
      ]
     },
     "execution_count": 3,
     "metadata": {},
     "output_type": "execute_result"
    }
   ],
   "source": [
    "b"
   ]
  },
  {
   "cell_type": "code",
   "execution_count": null,
   "metadata": {},
   "outputs": [],
   "source": []
  }
 ],
 "metadata": {
  "kernelspec": {
   "display_name": "base",
   "language": "python",
   "name": "python3"
  },
  "language_info": {
   "codemirror_mode": {
    "name": "ipython",
    "version": 3
   },
   "file_extension": ".py",
   "mimetype": "text/x-python",
   "name": "python",
   "nbconvert_exporter": "python",
   "pygments_lexer": "ipython3",
   "version": "3.7.9"
  }
 },
 "nbformat": 4,
 "nbformat_minor": 2
}
